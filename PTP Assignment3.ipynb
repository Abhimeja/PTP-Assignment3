{
 "cells": [
  {
   "cell_type": "markdown",
   "id": "09141ea9-3834-44d5-895d-f863abeb6d26",
   "metadata": {},
   "source": [
    "Question 1-\n",
    "Given an integer array nums of length n and an integer target, find three integers\n",
    "in nums such that the sum is closest to the target.\n",
    "Return the sum of the three integers.\n",
    "\n",
    "Ans--"
   ]
  },
  {
   "cell_type": "markdown",
   "id": "687ee2ed-29b0-4922-a282-3e77fd143210",
   "metadata": {},
   "source": [
    "To find three integers in the given array nums such that their sum is closest to the target, you can follow these steps:\n",
    "\n",
    "1.Sort the nums array in ascending order. This will help in optimizing the search process.\n",
    "\n",
    "2.Initialize a variable closestSum to store the closest sum encountered so far. Set it to a large value initially, such as positive infinity.\n",
    "\n",
    "3.Iterate through the nums array from the beginning, considering each number as a potential candidate for the first element of the triplet.\n",
    "\n",
    "4.For each number nums[i] at index i, use two pointers approach to find the remaining two elements whose sum is closest to the target.\n",
    "\n",
    "  *Initialize two pointers, left and right, with values i + 1 and n - 1, respectively. These pointers will represent the remaining subarray.\n",
    "\n",
    "  *While left is less than right, calculate the sum of the three elements: nums[i] + nums[left] + nums[right].\n",
    "\n",
    "  *Update closestSum if the absolute difference between the current sum and the target is smaller than the absolute difference between closestSum and the target.\n",
    "\n",
    "  *If the current sum is less than the target, increment the left pointer to explore larger values.\n",
    "\n",
    "  *If the current sum is greater than the target, decrement the right pointer to explore smaller values.\n",
    "  \n",
    "  *If the current sum is equal to the target, return the target sum immediately, as it cannot be closer than an exact match.\n",
    "\n",
    "5.After the iteration completes, return closestSum, which will contain the sum of the three integers closest to the target.\n",
    "\n",
    "Here's an example implementation in Python:"
   ]
  },
  {
   "cell_type": "code",
   "execution_count": 1,
   "id": "8fd39678-e06e-43ea-974e-0362e9b6aa9d",
   "metadata": {},
   "outputs": [],
   "source": [
    "def threeSumClosest(nums, target):\n",
    "    nums.sort()  # Sort the array in ascending order\n",
    "    n = len(nums)\n",
    "    closestSum = float('inf')\n",
    "\n",
    "    for i in range(n - 2):\n",
    "        left = i + 1\n",
    "        right = n - 1\n",
    "\n",
    "        while left < right:\n",
    "            currentSum = nums[i] + nums[left] + nums[right]\n",
    "\n",
    "            if currentSum == target:\n",
    "                return currentSum\n",
    "\n",
    "            if abs(currentSum - target) < abs(closestSum - target):\n",
    "                closestSum = currentSum\n",
    "\n",
    "            if currentSum < target:\n",
    "                left += 1\n",
    "            else:\n",
    "                right -= 1\n",
    "\n",
    "    return closestSum\n"
   ]
  },
  {
   "cell_type": "code",
   "execution_count": 3,
   "id": "dfc11a4d-b187-4d10-a9a0-969ce24102e2",
   "metadata": {},
   "outputs": [
    {
     "name": "stdout",
     "output_type": "stream",
     "text": [
      "2\n"
     ]
    }
   ],
   "source": [
    "nums = [-1,2,1,-4]\n",
    "target=1\n",
    "result = threeSumClosest(nums, target)\n",
    "print(result)"
   ]
  },
  {
   "cell_type": "raw",
   "id": "daecfdb7-8e79-43d6-9c37-d16389445649",
   "metadata": {},
   "source": [
    "Question 2-\n",
    "Given an array nums of n integers, return an array of all the unique quadruplets\n",
    "[nums[a], nums[b], nums[c], nums[d]] such that:\n",
    "           ● 0 <= a, b, c, d < n\n",
    "           ● a, b, c, and d are distinct.\n",
    "           ● nums[a] + nums[b] + nums[c] + nums[d] == target\n",
    " Example 1:\n",
    "Input: nums = [1,0,-1,0,-2,2], target = 0\n",
    "Output: [[-2,-1,1,2],[-2,0,0,2],[-1,0,0,1]]\n",
    "Ans--        "
   ]
  },
  {
   "cell_type": "markdown",
   "id": "f71ee119-36f9-41f0-952e-5c66e735d383",
   "metadata": {},
   "source": [
    "To find all unique quadruplets in the given array nums that sum up to the target, we can use a similar approach as the threeSum problem. However, we need to extend it to handle four elements instead of three."
   ]
  },
  {
   "cell_type": "code",
   "execution_count": 6,
   "id": "d83eaff7-7914-470f-b6c3-9c40f93a0bd9",
   "metadata": {},
   "outputs": [],
   "source": [
    "def fourSum(nums,target):\n",
    "    nums.sort()\n",
    "    #Sort the array in assending order\n",
    "    n=len(nums)\n",
    "    quadruplets=[]\n",
    "    for i in range(n - 3):\n",
    "        if i>0 and nums[i]==nums[i - 1]:\n",
    "            continue  # Skip duplicates for the first element\n",
    "\n",
    "        for j in range(i + 1, n - 2):\n",
    "            if j > i + 1 and nums[j] == nums[j - 1]:\n",
    "                continue  # Skip duplicates for the second element\n",
    "\n",
    "            left = j + 1\n",
    "            right = n - 1\n",
    "\n",
    "            while left < right:\n",
    "                curr_sum = nums[i] + nums[j] + nums[left] + nums[right]\n",
    "                if curr_sum == target:\n",
    "                    quadruplets.append([nums[i], nums[j], nums[left], nums[right]])\n",
    "\n",
    "                    # Skip duplicates for the third and fourth elements\n",
    "                    while left < right and nums[left] == nums[left + 1]:\n",
    "                        left += 1\n",
    "                    while left < right and nums[right] == nums[right - 1]:\n",
    "                        right -= 1\n",
    "                        left += 1\n",
    "                    right -= 1\n",
    "                elif curr_sum < target:\n",
    "                    left += 1  # Move the left pointer to increase the sum\n",
    "                else:\n",
    "                    right -= 1  # Move the right pointer to decrease the sum\n",
    "\n",
    "    return quadruplets"
   ]
  },
  {
   "cell_type": "markdown",
   "id": "4964b5b7-0f19-47f3-8ba7-89bf6d76bdad",
   "metadata": {},
   "source": [
    "Let's test the function with the given example:"
   ]
  },
  {
   "cell_type": "code",
   "execution_count": 8,
   "id": "00b65bf2-300a-4cd5-bd97-c7f9c14aeba2",
   "metadata": {},
   "outputs": [
    {
     "name": "stdout",
     "output_type": "stream",
     "text": [
      "[[-2, -1, 1, 2], [-2, 0, 0, 2], [-1, 0, 0, 1]]\n"
     ]
    }
   ],
   "source": [
    "nums = [1, 0, -1, 0, -2, 2]\n",
    "target = 0\n",
    "result = fourSum(nums, target)\n",
    "print(result)\n"
   ]
  },
  {
   "cell_type": "raw",
   "id": "f5458430-46dd-4cd6-acde-00f0df271207",
   "metadata": {},
   "source": [
    "Question 3-\n",
    "A permutation of an array of integers is an arrangement of its members into a\n",
    "sequence or linear order.\n",
    "\n",
    "For example, for arr = [1,2,3], the following are all the permutations of arr:\n",
    "[1,2,3], [1,3,2], [2, 1, 3], [2, 3, 1], [3,1,2], [3,2,1].\n",
    "\n",
    "The next permutation of an array of integers is the next lexicographically greater\n",
    "permutation of its integer. More formally, if all the permutations of the array are\n",
    "sorted in one container according to their lexicographical order, then the next\n",
    "permutation of that array is the permutation that follows it in the sorted container.\n",
    "\n",
    "If such an arrangement is not possible, the array must be rearranged as the\n",
    "lowest possible order (i.e., sorted in ascending order).\n",
    "\n",
    "● For example, the next permutation of arr = [1,2,3] is [1,3,2].\n",
    "● Similarly, the next permutation of arr = [2,3,1] is [3,1,2].\n",
    "● While the next permutation of arr = [3,2,1] is [1,2,3] because [3,2,1] does not\n",
    "have a lexicographical larger rearrangement.\n",
    "\n",
    "Given an array of integers nums, find the next permutation of nums.\n",
    "The replacement must be in place and use only constant extra memory.\n",
    "\n",
    "Example 1:\n",
    "Input: nums = [1,2,3]\n",
    "Output: [1,3,2]\n",
    "\n",
    "Ans--"
   ]
  },
  {
   "cell_type": "markdown",
   "id": "f2424889-67a4-4929-b2af-e4cb25683698",
   "metadata": {},
   "source": [
    "To find the next lexicographically greater permutation of an array of integers nums, we can follow these steps:\n",
    "\n",
    "1.Start from the rightmost element and find the first pair of adjacent elements (a, b) such that nums[a] < nums[b].\n",
    "\n",
    "2.If no such pair is found, it means the given permutation is the highest possible order. In this case, we reverse the entire array to get the lowest possible order.\n",
    "\n",
    "3.If a pair (a, b) is found, we need to find the smallest element greater than nums[a] in the range from index a+1 to the end of the array. Let's call this element nums[c].\n",
    "\n",
    "4.Swap nums[a] with nums[c].\n",
    "\n",
    "5.Reverse the subarray from index a+1 to the end of the array.\n",
    "\n"
   ]
  },
  {
   "cell_type": "code",
   "execution_count": 9,
   "id": "daefceb0-6821-4865-b33e-a59c30cdb28a",
   "metadata": {},
   "outputs": [],
   "source": [
    "def nextPermutation(nums):\n",
    "    n = len(nums)\n",
    "    i = n - 2\n",
    "\n",
    "    # Find the first pair (a, b) such that nums[a] < nums[b]\n",
    "    while i >= 0 and nums[i] >= nums[i + 1]:\n",
    "        i -= 1\n",
    "\n",
    "    if i >= 0:\n",
    "        j = n - 1\n",
    "        # Find the smallest element greater than nums[i] in the range from i+1 to the end\n",
    "        while nums[j] <= nums[i]:\n",
    "            j -= 1\n",
    "        # Swap nums[i] with nums[j]\n",
    "        nums[i], nums[j] = nums[j], nums[i]\n",
    "\n",
    "    # Reverse the subarray from i+1 to the end\n",
    "    left = i + 1\n",
    "    right = n - 1\n",
    "    while left < right:\n",
    "        nums[left], nums[right] = nums[right], nums[left]\n",
    "        left += 1\n",
    "        right -= 1\n",
    "\n",
    "    return nums\n"
   ]
  },
  {
   "cell_type": "code",
   "execution_count": 10,
   "id": "b487b92c-33c3-4e86-9f2f-ffed718da885",
   "metadata": {},
   "outputs": [
    {
     "name": "stdout",
     "output_type": "stream",
     "text": [
      "[1, 3, 2]\n"
     ]
    }
   ],
   "source": [
    "nums = [1, 2, 3]\n",
    "result = nextPermutation(nums)\n",
    "print(result)\n"
   ]
  },
  {
   "cell_type": "raw",
   "id": "20279d4b-d9df-44d7-b473-8ac9a34e42c9",
   "metadata": {},
   "source": [
    "Question 4\n",
    "Given a sorted array of distinct integers and a target value, return the index if the\n",
    "target is found. If not, return the index where it would be if it were inserted in\n",
    "order.\n",
    "\n",
    "You must write an algorithm with O(log n) runtime complexity.\n",
    "\n",
    "Example 1:\n",
    "Input: nums = [1,3,5,6], target = 5\n",
    "Output: 2\n",
    "\n",
    "Ans--"
   ]
  },
  {
   "cell_type": "markdown",
   "id": "54cd7424-de95-4d4d-b1d6-fbb99f5671c1",
   "metadata": {},
   "source": [
    "To find the index where the target value should be inserted in a sorted array of distinct integers, we can use a binary search algorithm. The binary search algorithm has a time complexity of O(log n), which satisfies the required runtime complexity."
   ]
  },
  {
   "cell_type": "code",
   "execution_count": 11,
   "id": "0babdc86-8e1b-4485-b289-544e56150129",
   "metadata": {},
   "outputs": [],
   "source": [
    "def searchInsert(nums, target):\n",
    "    left = 0\n",
    "    right = len(nums) - 1\n",
    "\n",
    "    while left <= right:\n",
    "        mid = left + (right - left) // 2\n",
    "\n",
    "        if nums[mid] == target:\n",
    "            return mid\n",
    "        elif nums[mid] < target:\n",
    "            left = mid + 1\n",
    "        else:\n",
    "            right = mid - 1\n",
    "\n",
    "    return left\n"
   ]
  },
  {
   "cell_type": "code",
   "execution_count": 12,
   "id": "215f1059-7498-431a-9990-b13002710f3c",
   "metadata": {},
   "outputs": [
    {
     "name": "stdout",
     "output_type": "stream",
     "text": [
      "2\n"
     ]
    }
   ],
   "source": [
    "nums = [1, 3, 5, 6]\n",
    "target = 5\n",
    "result = searchInsert(nums, target)\n",
    "print(result)\n"
   ]
  },
  {
   "cell_type": "raw",
   "id": "d512fe6d-15af-420b-87d9-e509e9b9b221",
   "metadata": {},
   "source": [
    "Question 5\n",
    "You are given a large integer represented as an integer array digits, where each\n",
    "digits[i] is the ith digit of the integer. The digits are ordered from most significant\n",
    "to least significant in left-to-right order. The large integer does not contain any\n",
    "leading 0's.\n",
    "\n",
    "Increment the large integer by one and return the resulting array of digits.\n",
    "\n",
    "Example 1:\n",
    "Input: digits = [1,2,3]\n",
    "Output: [1,2,4]\n",
    "\n",
    "Ans--"
   ]
  },
  {
   "cell_type": "markdown",
   "id": "fddfa7b7-b872-49ec-9a7b-1a29e437dfb3",
   "metadata": {},
   "source": [
    "To increment a large integer represented as an integer array digits, we can start from the least significant digit (rightmost) and add 1. If the result is less than 10, we can return the updated array immediately. Otherwise, we need to propagate the carry to the next digit."
   ]
  },
  {
   "cell_type": "code",
   "execution_count": 13,
   "id": "b959671a-f233-4cba-ac6b-5100b4fbdcb7",
   "metadata": {},
   "outputs": [],
   "source": [
    "def plusOne(digits):\n",
    "    n = len(digits)\n",
    "    carry = 1\n",
    "\n",
    "    for i in range(n - 1, -1, -1):\n",
    "        digits[i] += carry\n",
    "        if digits[i] < 10:\n",
    "            carry = 0\n",
    "            break\n",
    "        else:\n",
    "            digits[i] = 0\n",
    "\n",
    "    if carry == 1:\n",
    "        digits.insert(0, 1)\n",
    "\n",
    "    return digits\n"
   ]
  },
  {
   "cell_type": "code",
   "execution_count": 14,
   "id": "2cc5eaf7-233f-45ce-acbf-a6bedd48d665",
   "metadata": {},
   "outputs": [
    {
     "name": "stdout",
     "output_type": "stream",
     "text": [
      "[1, 2, 4]\n"
     ]
    }
   ],
   "source": [
    "digits = [1, 2, 3]\n",
    "result = plusOne(digits)\n",
    "print(result)\n"
   ]
  },
  {
   "cell_type": "raw",
   "id": "34efb9ee-393e-498b-98d9-980abd6b0b86",
   "metadata": {},
   "source": [
    "Question 6\n",
    "Given a non-empty array of integers nums, every element appears twice except\n",
    "for one. Find that single one.\n",
    "\n",
    "You must implement a solution with a linear runtime complexity and use only\n",
    "constant extra space.\n",
    "\n",
    "Example 1:\n",
    "Input: nums = [2,2,1]\n",
    "Output: 1\n",
    "\n",
    "Ans--"
   ]
  },
  {
   "cell_type": "markdown",
   "id": "aa6a0b75-2610-433f-a2dd-97ac8f61f4b9",
   "metadata": {},
   "source": [
    "To find the element that appears only once in a non-empty array of integers nums, where every other element appears twice, we can use the XOR operation. The XOR operation has the property that XORing a number with itself gives 0.\n",
    "\n",
    "If we XOR all the numbers in the array, the result will be the element that appears only once, as all the duplicated elements will cancel out each other."
   ]
  },
  {
   "cell_type": "code",
   "execution_count": 15,
   "id": "6ef98275-ead7-4186-b0ba-d9b0978c8292",
   "metadata": {},
   "outputs": [],
   "source": [
    "def singleNumber(nums):\n",
    "    result = 0\n",
    "    for num in nums:\n",
    "        result ^= num\n",
    "    return result\n"
   ]
  },
  {
   "cell_type": "code",
   "execution_count": 16,
   "id": "cbc0b550-a9a5-457f-a9f5-93198b919234",
   "metadata": {},
   "outputs": [
    {
     "name": "stdout",
     "output_type": "stream",
     "text": [
      "1\n"
     ]
    }
   ],
   "source": [
    "nums = [2, 2, 1]\n",
    "result = singleNumber(nums)\n",
    "print(result)\n"
   ]
  },
  {
   "cell_type": "raw",
   "id": "3c2c8867-e414-42f6-ad5b-d311a062a50e",
   "metadata": {},
   "source": [
    "Question 7\n",
    "You are given an inclusive range [lower, upper] and a sorted unique integer array\n",
    "nums, where all elements are within the inclusive range.\n",
    "\n",
    "A number x is considered missing if x is in the range [lower, upper] and x is not in\n",
    "nums.\n",
    "\n",
    "Return the shortest sorted list of ranges that exactly covers all the missing\n",
    "numbers. That is, no element of nums is included in any of the ranges, and each\n",
    "missing number is covered by one of the ranges.\n",
    "\n",
    "Example 1:\n",
    "Input: nums = [0,1,3,50,75], lower = 0, upper = 99\n",
    "Output: [[2,2],[4,49],[51,74],[76,99]]\n",
    "\n",
    "Ans--"
   ]
  },
  {
   "cell_type": "markdown",
   "id": "435d1982-e757-4380-9f1a-9043063425bf",
   "metadata": {},
   "source": [
    "To find the shortest sorted list of ranges that covers all the missing numbers in the range [lower, upper], given a sorted array nums containing some elements within the range, we can iterate through the range and identify the missing numbers."
   ]
  },
  {
   "cell_type": "code",
   "execution_count": 17,
   "id": "f28647db-c3f3-43c5-b053-b752fba5ff62",
   "metadata": {},
   "outputs": [],
   "source": [
    "def findMissingRanges(nums, lower, upper):\n",
    "    # Helper function to generate a range string\n",
    "    def generateRangeString(start, end):\n",
    "        if start == end:\n",
    "            return str(start)\n",
    "        else:\n",
    "            return str(start) + '->' + str(end)\n",
    "\n",
    "    missingRanges = []\n",
    "\n",
    "    # Handle the case before the first number in nums\n",
    "    if lower < nums[0]:\n",
    "        missingRanges.append(generateRangeString(lower, nums[0] - 1))\n",
    "\n",
    "    # Iterate through the numbers in nums\n",
    "    for i in range(1, len(nums)):\n",
    "        if nums[i] != nums[i - 1] + 1:  # Missing number(s) found\n",
    "            missingRanges.append(generateRangeString(nums[i - 1] + 1, nums[i] - 1))\n",
    "\n",
    "    # Handle the case after the last number in nums\n",
    "    if upper > nums[-1]:\n",
    "        missingRanges.append(generateRangeString(nums[-1] + 1, upper))\n",
    "\n",
    "    return missingRanges\n"
   ]
  },
  {
   "cell_type": "code",
   "execution_count": 18,
   "id": "52c7a588-e6a9-4262-b93a-6ab5467136b6",
   "metadata": {},
   "outputs": [
    {
     "name": "stdout",
     "output_type": "stream",
     "text": [
      "['2', '4->49', '51->74', '76->99']\n"
     ]
    }
   ],
   "source": [
    "nums = [0, 1, 3, 50, 75]\n",
    "lower = 0\n",
    "upper = 99\n",
    "result = findMissingRanges(nums, lower, upper)\n",
    "print(result)\n"
   ]
  },
  {
   "cell_type": "markdown",
   "id": "f653813e-2207-4406-b4d9-033ffb7650aa",
   "metadata": {},
   "source": [
    "The missing numbers in the range [0, 99] when considering the array [0, 1, 3, 50, 75] are 2, 4 to 49, 51 to 74, and 76 to 99. The function correctly identifies and returns the shortest sorted list of ranges that covers all the missing numbers."
   ]
  },
  {
   "cell_type": "raw",
   "id": "9c752715-7350-4610-8d2e-3f44bc8d006a",
   "metadata": {},
   "source": [
    "Question 8\n",
    "Given an array of meeting time intervals where intervals[i] = [starti, endi],\n",
    "determine if a person could attend all meetings.\n",
    "\n",
    "Example 1:\n",
    "Input: intervals = [[0,30],[5,10],[15,20]]\n",
    "Output: false\n",
    "\n",
    "Ans--"
   ]
  },
  {
   "cell_type": "markdown",
   "id": "02bcbf2b-66d7-4a3b-84ce-8dfbf94e9253",
   "metadata": {},
   "source": [
    "To determine if a person could attend all meetings represented by an array of meeting time intervals, we need to check if any two intervals overlap. If there are no overlapping intervals, it means the person can attend all meetings."
   ]
  },
  {
   "cell_type": "code",
   "execution_count": 19,
   "id": "a590c561-3846-4f42-9bc8-45e1ee9bb269",
   "metadata": {},
   "outputs": [],
   "source": [
    "def canAttendMeetings(intervals):\n",
    "    intervals.sort(key=lambda x: x[0])  # Sort the intervals based on the start time\n",
    "\n",
    "    for i in range(1, len(intervals)):\n",
    "        if intervals[i][0] < intervals[i - 1][1]:  # Check for overlap\n",
    "            return False\n",
    "\n",
    "    return True\n"
   ]
  },
  {
   "cell_type": "code",
   "execution_count": 20,
   "id": "7b3bc23a-53f4-4d89-b513-acdef25bffe7",
   "metadata": {},
   "outputs": [
    {
     "name": "stdout",
     "output_type": "stream",
     "text": [
      "False\n"
     ]
    }
   ],
   "source": [
    "intervals = [[0, 30], [5, 10], [15, 20]]\n",
    "result = canAttendMeetings(intervals)\n",
    "print(result)\n"
   ]
  },
  {
   "cell_type": "code",
   "execution_count": null,
   "id": "bcf4d019-fffa-47c1-ac9c-4a990b224baa",
   "metadata": {},
   "outputs": [],
   "source": []
  }
 ],
 "metadata": {
  "kernelspec": {
   "display_name": "Python 3 (ipykernel)",
   "language": "python",
   "name": "python3"
  },
  "language_info": {
   "codemirror_mode": {
    "name": "ipython",
    "version": 3
   },
   "file_extension": ".py",
   "mimetype": "text/x-python",
   "name": "python",
   "nbconvert_exporter": "python",
   "pygments_lexer": "ipython3",
   "version": "3.10.8"
  }
 },
 "nbformat": 4,
 "nbformat_minor": 5
}
